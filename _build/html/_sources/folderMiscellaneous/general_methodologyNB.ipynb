{
 "cells": [
  {
   "cell_type": "markdown",
   "id": "4a786c00",
   "metadata": {},
   "source": [
    "# General Methodology\n",
    "\n",
    "## Reliability prediction for miscellaneous items\n",
    "\n",
    "For the four different sections (System, EEE, Mechanical and Miscellaneous), the same principle will be applied with for each section a clear definition of the objective(s) and then a clear explanation of the choices. When relevant, examples will be used to illustrate.\n",
    "\n",
    "The level of recommendation/rule or permission will be clearly indicated so that it is easy for the user to adapt its application of the method based on its needs.\n",
    "\n",
    "This chapter deals with the miscellaneous items which are represented by all parts/item (or sets of parts) which are not fully electrical parts, nor fully mechanical parts nor fully structural parts. The current reliability models (EEE parts, mechanical parts) are not adapted and are not the preferred way to support reliability predictions for these items. Therefore, other ways to provide reliability estimates are proposed in this chapter and are detailed in the next sections.\n",
    "\n",
    "The [following figure](figure4_1) represents examples of some miscellaneous parts/items:\n",
    "\n",
    "![alt text](picture/figure4_1.png \"Examples of some miscellaneous items\")\n",
    "\n",
    "The list provided below may contain some items that are in fact EEE or mechanical type items, but which are classified as “miscellaneous” because the modelling approach for EEE/mechanical is not considered as completely suitable.\n",
    "\n",
    "One of the major characteristics of miscellaneous parts/items is that they are various (functions, technologies, nature) and very specific in the sense they are designed to support dedicated and usual functions (e.g. battery) in a satellite:\n",
    "\n",
    "* They cover a wide range of Technologies (e.g. Chemical, fluidic…) apart “simple” electrical or mechanical technologies,\n",
    "* They are not fully covered by elementary « EEE or Mechanical » models (e.g. a battery cathode is not a pure EEE part),\n",
    "* The failures may originate from particular failure mechanisms (e.g. catalytic bed degradation for N2H4 thrusters),\n",
    "* They may be supported by « Innovative » technology (e.g. Plasmic propulsion) with reduced in-orbit return,\n",
    "* They can be submitted to Wear-out process (e.g. battery calendar aging) depending on their nature.\n"
   ]
  },
  {
   "cell_type": "markdown",
   "id": "574bc71d",
   "metadata": {},
   "source": [
    "<div class=\"admonition danger\">\n",
    "<p class=\"admonition-title\">Don't try this at home</p>\n",
    "<p>...</p>\n",
    "</div>"
   ]
  },
  {
   "cell_type": "markdown",
   "id": "70bda219",
   "metadata": {},
   "source": [
    "```{note}\n",
    "Here is a note!\n",
    "```"
   ]
  },
  {
   "cell_type": "code",
   "execution_count": null,
   "id": "a4eb60a3",
   "metadata": {},
   "outputs": [],
   "source": []
  }
 ],
 "metadata": {
  "kernelspec": {
   "display_name": "Python 3 (ipykernel)",
   "language": "python",
   "name": "python3"
  },
  "language_info": {
   "codemirror_mode": {
    "name": "ipython",
    "version": 3
   },
   "file_extension": ".py",
   "mimetype": "text/x-python",
   "name": "python",
   "nbconvert_exporter": "python",
   "pygments_lexer": "ipython3",
   "version": "3.8.10"
  }
 },
 "nbformat": 4,
 "nbformat_minor": 5
}
